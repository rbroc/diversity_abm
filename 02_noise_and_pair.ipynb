{
 "cells": [
  {
   "cell_type": "markdown",
   "metadata": {},
   "source": [
    "# Create and pair agents\n",
    "Create noised version of the reference matrix and pair up individual agents."
   ]
  },
  {
   "cell_type": "code",
   "execution_count": 11,
   "metadata": {},
   "outputs": [],
   "source": [
    "import glob\n",
    "from animal_game.utils import compute_thresholds\n",
    "from animal_game.agents import Agent\n",
    "import itertools\n",
    "from sklearn.metrics.pairwise import euclidean_distances\n",
    "from sklearn.preprocessing import MinMaxScaler\n",
    "import pandas as pd\n",
    "import seaborn as sns\n",
    "from matplotlib import pyplot as plt\n",
    "import numpy as np\n",
    "import random\n",
    "from multiprocessing import Pool"
   ]
  },
  {
   "cell_type": "code",
   "execution_count": 12,
   "metadata": {},
   "outputs": [],
   "source": [
    "models = ['animal_game/models/wiki_euclidean_distance.tsv']\n",
    "animals = pd.read_csv('animal_game/models/animal_list.csv')\n",
    "thresholds = compute_thresholds(models, \n",
    "                                q=[round(n,2) for n in np.arange(0.05, 1.0, 0.05)], \n",
    "                                round_at=5)"
   ]
  },
  {
   "cell_type": "markdown",
   "metadata": {},
   "source": [
    "### Generate noised matrices"
   ]
  },
  {
   "cell_type": "markdown",
   "metadata": {},
   "source": [
    "Read in the vectors"
   ]
  },
  {
   "cell_type": "code",
   "execution_count": 13,
   "metadata": {},
   "outputs": [],
   "source": [
    "X = pd.read_csv('animal_game/models/wiki_vectors.tsv', \n",
    "                sep='\\t', header=None, index_col=0)\n",
    "X_scaled = MinMaxScaler().fit_transform(X.values)"
   ]
  },
  {
   "cell_type": "code",
   "execution_count": 14,
   "metadata": {},
   "outputs": [],
   "source": [
    "date = '21_05_27'\n",
    "nr_agents_per_nl = 100\n",
    "noise_levels = [round(r,2) for r in np.arange(0.01, 0.1, 0.02)]"
   ]
  },
  {
   "cell_type": "code",
   "execution_count": 15,
   "metadata": {},
   "outputs": [],
   "source": [
    "eudist_mats = [] # distance matrices\n",
    "mats = [] # vectors matrics\n",
    "for idx in range(nr_agents_per_nl):\n",
    "    for nl in noise_levels:\n",
    "        noise = np.random.uniform(low=-nl, high=nl, size=X.values.shape)\n",
    "        X_noised = noise + X_scaled\n",
    "        X_noised = np.vectorize(lambda x: 0 if x < 0 else x)(X_noised)\n",
    "        X_noised = np.vectorize(lambda x: 1 if x > 1 else x)(X_noised)\n",
    "        # Save matrix\n",
    "        df = pd.DataFrame(X_noised)\n",
    "        df.index = animals['Animals'].tolist()\n",
    "        fname = f'wiki_{nl}_{idx}.tsv'\n",
    "        df.to_csv(f'animal_game/models/{date}/noised_vectors/{fname}', \n",
    "                  sep='\\t')\n",
    "        mats.append((idx, nl, X_noised))\n",
    "        # Save distances\n",
    "        ed = euclidean_distances(X_noised, X_noised) / 400\n",
    "        edf = pd.DataFrame(ed)\n",
    "        edf.index = df.index\n",
    "        edf.columns = edf.index\n",
    "        edf.to_csv(f'animal_game/models/{date}/noised_distance_matrices/{fname}',\n",
    "                   sep='\\t')\n",
    "        eudist_mats.append((idx, nl, ed))"
   ]
  },
  {
   "cell_type": "markdown",
   "metadata": {},
   "source": [
    "## Compute all pairwise distances between agents"
   ]
  },
  {
   "cell_type": "code",
   "execution_count": 16,
   "metadata": {},
   "outputs": [],
   "source": [
    "combs = list(itertools.combinations(eudist_mats, 2))\n",
    "vcombs = list(itertools.combinations(mats, 2))"
   ]
  },
  {
   "cell_type": "code",
   "execution_count": 17,
   "metadata": {},
   "outputs": [],
   "source": [
    "def _compute_distance(c):\n",
    "    distance = np.sqrt(np.sum(np.square(c[0][2] - c[1][2])))\n",
    "    noise_level1 = c[0][1]\n",
    "    noise_level2 = c[1][1]\n",
    "    idx1 = c[0][0]\n",
    "    idx2 = c[1][0]\n",
    "    return (idx1, idx2,\n",
    "            noise_level1, noise_level2,\n",
    "            distance)"
   ]
  },
  {
   "cell_type": "code",
   "execution_count": 18,
   "metadata": {},
   "outputs": [],
   "source": [
    "pool = Pool(processes=10)\n",
    "results = pool.map(_compute_distance, combs)"
   ]
  },
  {
   "cell_type": "code",
   "execution_count": 19,
   "metadata": {},
   "outputs": [
    {
     "data": {
      "text/plain": [
       "<matplotlib.axes._subplots.AxesSubplot at 0x138cb5890>"
      ]
     },
     "execution_count": 19,
     "metadata": {},
     "output_type": "execute_result"
    },
    {
     "data": {
      "image/png": "[encoded data removed]",
      "text/plain": [
       "<Figure size 432x288 with 1 Axes>"
      ]
     },
     "metadata": {
      "needs_background": "light"
     },
     "output_type": "display_data"
    }
   ],
   "source": [
    "sns.histplot([r[-1] for r in results], binwidth=0.005)"
   ]
  },
  {
   "cell_type": "markdown",
   "metadata": {},
   "source": [
    "## Sample 500 pairs with \"even\" distancing"
   ]
  },
  {
   "cell_type": "code",
   "execution_count": 20,
   "metadata": {},
   "outputs": [],
   "source": [
    "qs = [0] + list(np.quantile([r[4] for r in results], q=[0.2, 0.4, 0.6, 0.8, 1.]))\n",
    "intervals = [(qs[i], qs[i+1]) for i in range(len(qs)-1)]"
   ]
  },
  {
   "cell_type": "code",
   "execution_count": 21,
   "metadata": {},
   "outputs": [],
   "source": [
    "sampled = []\n",
    "for i in intervals:\n",
    "    sampled += random.sample([r for r in results if (r[-1] >= i[0]) & (r[-1] < i[1])], 100)"
   ]
  },
  {
   "cell_type": "code",
   "execution_count": 22,
   "metadata": {},
   "outputs": [],
   "source": [
    "distance_df = pd.DataFrame(sampled, columns=['idx1', 'idx2', \n",
    "                                             'noise_level1', 'noise_level2',\n",
    "                                             'distance'])\n",
    "distance_df['same_level'] = np.where(distance_df['noise_level1'] == distance_df['noise_level2'], 1, 0)"
   ]
  },
  {
   "cell_type": "code",
   "execution_count": 23,
   "metadata": {},
   "outputs": [
    {
     "data": {
      "image/png": "[encoded data removed]",
      "text/plain": [
       "<Figure size 720x216 with 2 Axes>"
      ]
     },
     "metadata": {
      "needs_background": "light"
     },
     "output_type": "display_data"
    }
   ],
   "source": [
    "f, ax = plt.subplots(ncols=2, figsize=(10,3))\n",
    "sns.histplot(data=distance_df, x='distance', binwidth=0.005, ax=ax[0])\n",
    "ax[0].set_title('Sampled distances')\n",
    "sns.histplot([r[-1] for r in results], binwidth=0.005, ax=ax[1])\n",
    "ax[1].set_title('All distances')\n",
    "plt.tight_layout()\n",
    "plt.show()"
   ]
  },
  {
   "cell_type": "code",
   "execution_count": 24,
   "metadata": {},
   "outputs": [
    {
     "data": {
      "image/png": "[encoded data removed]",
      "text/plain": [
       "<Figure size 432x288 with 2 Axes>"
      ]
     },
     "metadata": {
      "needs_background": "light"
     },
     "output_type": "display_data"
    }
   ],
   "source": [
    "distance_df['noise_level1'] = distance_df['noise_level1'].round(2)\n",
    "distance_df['noise_level2'] = distance_df['noise_level2'].round(2)\n",
    "sns.heatmap(data=distance_df.groupby(['noise_level1', 'noise_level2'])['distance'].count().reset_index().pivot(index='noise_level1', \n",
    "                                                                                                               columns='noise_level2', \n",
    "                                                                                                               values='distance'),  \n",
    "            cmap='vlag')\n",
    "plt.xlabel('')\n",
    "plt.ylabel('')\n",
    "plt.show()"
   ]
  },
  {
   "cell_type": "markdown",
   "metadata": {},
   "source": [
    "## Save selected pairs"
   ]
  },
  {
   "cell_type": "code",
   "execution_count": 25,
   "metadata": {},
   "outputs": [],
   "source": [
    "distance_df.drop('same_level', axis=1, inplace=True)"
   ]
  },
  {
   "cell_type": "code",
   "execution_count": 26,
   "metadata": {},
   "outputs": [],
   "source": [
    "distance_df['fname_1'] = 'wiki_' + distance_df['noise_level1'].astype(str) + '_' + distance_df['idx1'].astype(str) + '.tsv'\n",
    "distance_df['fname_2'] = 'wiki_' + distance_df['noise_level2'].astype(str) + '_' + distance_df['idx2'].astype(str) + '.tsv'"
   ]
  },
  {
   "cell_type": "code",
   "execution_count": 27,
   "metadata": {},
   "outputs": [],
   "source": [
    "distance_df.to_csv('animal_game/models/21_05_27/sampled_pairs.tsv', sep='\\t')"
   ]
  },
  {
   "cell_type": "code",
   "execution_count": 28,
   "metadata": {},
   "outputs": [
    {
     "name": "stdout",
     "output_type": "stream",
     "text": [
      "Number of unique agents:\n"
     ]
    },
    {
     "data": {
      "text/plain": [
       "423"
      ]
     },
     "execution_count": 28,
     "metadata": {},
     "output_type": "execute_result"
    }
   ],
   "source": [
    "print('Number of unique agents:')\n",
    "len(set(distance_df.fname_1.unique().tolist() + distance_df.fname_2.unique().tolist()))"
   ]
  },
  {
   "cell_type": "code",
   "execution_count": 29,
   "metadata": {},
   "outputs": [],
   "source": [
    "from collections import Counter"
   ]
  },
  {
   "cell_type": "code",
   "execution_count": 30,
   "metadata": {},
   "outputs": [
    {
     "data": {
      "text/plain": [
       "Counter({'wiki_0.03_35.tsv': 2,\n",
       "         'wiki_0.01_40.tsv': 1,\n",
       "         'wiki_0.03_46.tsv': 1,\n",
       "         'wiki_0.03_25.tsv': 1,\n",
       "         'wiki_0.03_11.tsv': 1,\n",
       "         'wiki_0.03_23.tsv': 2,\n",
       "         'wiki_0.01_25.tsv': 2,\n",
       "         'wiki_0.01_7.tsv': 1,\n",
       "         'wiki_0.05_73.tsv': 2,\n",
       "         'wiki_0.03_24.tsv': 1,\n",
       "         'wiki_0.03_5.tsv': 1,\n",
       "         'wiki_0.05_34.tsv': 2,\n",
       "         'wiki_0.05_26.tsv': 1,\n",
       "         'wiki_0.03_42.tsv': 2,\n",
       "         'wiki_0.01_5.tsv': 1,\n",
       "         'wiki_0.03_22.tsv': 2,\n",
       "         'wiki_0.01_39.tsv': 2,\n",
       "         'wiki_0.01_3.tsv': 1,\n",
       "         'wiki_0.01_8.tsv': 2,\n",
       "         'wiki_0.03_47.tsv': 2,\n",
       "         'wiki_0.05_18.tsv': 1,\n",
       "         'wiki_0.05_17.tsv': 1,\n",
       "         'wiki_0.03_29.tsv': 1,\n",
       "         'wiki_0.03_61.tsv': 2,\n",
       "         'wiki_0.03_43.tsv': 1,\n",
       "         'wiki_0.01_14.tsv': 2,\n",
       "         'wiki_0.05_59.tsv': 2,\n",
       "         'wiki_0.01_2.tsv': 1,\n",
       "         'wiki_0.03_59.tsv': 2,\n",
       "         'wiki_0.01_10.tsv': 1,\n",
       "         'wiki_0.01_33.tsv': 2,\n",
       "         'wiki_0.05_14.tsv': 1,\n",
       "         'wiki_0.01_1.tsv': 1,\n",
       "         'wiki_0.01_67.tsv': 2,\n",
       "         'wiki_0.03_34.tsv': 2,\n",
       "         'wiki_0.01_26.tsv': 2,\n",
       "         'wiki_0.05_53.tsv': 2,\n",
       "         'wiki_0.03_3.tsv': 1,\n",
       "         'wiki_0.03_58.tsv': 2,\n",
       "         'wiki_0.05_21.tsv': 2,\n",
       "         'wiki_0.01_38.tsv': 2,\n",
       "         'wiki_0.01_20.tsv': 1,\n",
       "         'wiki_0.01_35.tsv': 1,\n",
       "         'wiki_0.03_19.tsv': 1,\n",
       "         'wiki_0.03_68.tsv': 1,\n",
       "         'wiki_0.05_93.tsv': 2,\n",
       "         'wiki_0.05_78.tsv': 2,\n",
       "         'wiki_0.03_0.tsv': 1,\n",
       "         'wiki_0.01_0.tsv': 1,\n",
       "         'wiki_0.03_18.tsv': 1,\n",
       "         'wiki_0.03_27.tsv': 1,\n",
       "         'wiki_0.05_41.tsv': 1,\n",
       "         'wiki_0.03_12.tsv': 2,\n",
       "         'wiki_0.03_16.tsv': 1,\n",
       "         'wiki_0.05_2.tsv': 1,\n",
       "         'wiki_0.01_59.tsv': 2,\n",
       "         'wiki_0.03_65.tsv': 2,\n",
       "         'wiki_0.01_54.tsv': 2,\n",
       "         'wiki_0.01_41.tsv': 2,\n",
       "         'wiki_0.03_14.tsv': 1,\n",
       "         'wiki_0.03_84.tsv': 2,\n",
       "         'wiki_0.03_37.tsv': 2,\n",
       "         'wiki_0.03_78.tsv': 1,\n",
       "         'wiki_0.01_62.tsv': 2,\n",
       "         'wiki_0.03_6.tsv': 1,\n",
       "         'wiki_0.03_13.tsv': 1,\n",
       "         'wiki_0.03_52.tsv': 2,\n",
       "         'wiki_0.03_21.tsv': 1,\n",
       "         'wiki_0.01_46.tsv': 2,\n",
       "         'wiki_0.01_93.tsv': 2,\n",
       "         'wiki_0.01_49.tsv': 1,\n",
       "         'wiki_0.01_23.tsv': 2,\n",
       "         'wiki_0.01_4.tsv': 1,\n",
       "         'wiki_0.05_28.tsv': 2,\n",
       "         'wiki_0.05_52.tsv': 2,\n",
       "         'wiki_0.01_45.tsv': 2,\n",
       "         'wiki_0.01_37.tsv': 2,\n",
       "         'wiki_0.07_62.tsv': 2,\n",
       "         'wiki_0.07_10.tsv': 1,\n",
       "         'wiki_0.03_26.tsv': 1,\n",
       "         'wiki_0.03_64.tsv': 1,\n",
       "         'wiki_0.05_27.tsv': 1,\n",
       "         'wiki_0.07_52.tsv': 1,\n",
       "         'wiki_0.05_86.tsv': 2,\n",
       "         'wiki_0.01_78.tsv': 2,\n",
       "         'wiki_0.01_17.tsv': 2,\n",
       "         'wiki_0.03_4.tsv': 1,\n",
       "         'wiki_0.05_33.tsv': 2,\n",
       "         'wiki_0.05_24.tsv': 1,\n",
       "         'wiki_0.07_45.tsv': 2,\n",
       "         'wiki_0.07_2.tsv': 1,\n",
       "         'wiki_0.05_37.tsv': 2,\n",
       "         'wiki_0.05_8.tsv': 1,\n",
       "         'wiki_0.05_1.tsv': 1,\n",
       "         'wiki_0.03_41.tsv': 2,\n",
       "         'wiki_0.07_18.tsv': 1,\n",
       "         'wiki_0.07_33.tsv': 2,\n",
       "         'wiki_0.03_10.tsv': 1,\n",
       "         'wiki_0.05_42.tsv': 2,\n",
       "         'wiki_0.01_16.tsv': 1,\n",
       "         'wiki_0.05_23.tsv': 2,\n",
       "         'wiki_0.05_20.tsv': 1,\n",
       "         'wiki_0.03_17.tsv': 1,\n",
       "         'wiki_0.05_30.tsv': 1,\n",
       "         'wiki_0.05_32.tsv': 2,\n",
       "         'wiki_0.01_22.tsv': 1,\n",
       "         'wiki_0.05_13.tsv': 1,\n",
       "         'wiki_0.01_94.tsv': 2,\n",
       "         'wiki_0.07_76.tsv': 1,\n",
       "         'wiki_0.07_6.tsv': 2,\n",
       "         'wiki_0.05_51.tsv': 2,\n",
       "         'wiki_0.05_9.tsv': 1,\n",
       "         'wiki_0.05_6.tsv': 1,\n",
       "         'wiki_0.03_49.tsv': 2,\n",
       "         'wiki_0.07_59.tsv': 2,\n",
       "         'wiki_0.05_70.tsv': 2,\n",
       "         'wiki_0.05_16.tsv': 2,\n",
       "         'wiki_0.05_7.tsv': 1,\n",
       "         'wiki_0.07_77.tsv': 2,\n",
       "         'wiki_0.07_75.tsv': 2,\n",
       "         'wiki_0.03_2.tsv': 2,\n",
       "         'wiki_0.07_16.tsv': 1,\n",
       "         'wiki_0.01_21.tsv': 1,\n",
       "         'wiki_0.01_42.tsv': 2,\n",
       "         'wiki_0.03_32.tsv': 2,\n",
       "         'wiki_0.01_57.tsv': 1,\n",
       "         'wiki_0.05_64.tsv': 2,\n",
       "         'wiki_0.07_25.tsv': 1,\n",
       "         'wiki_0.03_77.tsv': 2,\n",
       "         'wiki_0.05_3.tsv': 1,\n",
       "         'wiki_0.05_25.tsv': 1,\n",
       "         'wiki_0.05_55.tsv': 2,\n",
       "         'wiki_0.05_46.tsv': 2,\n",
       "         'wiki_0.05_80.tsv': 2,\n",
       "         'wiki_0.07_37.tsv': 2,\n",
       "         'wiki_0.07_81.tsv': 2,\n",
       "         'wiki_0.05_36.tsv': 2,\n",
       "         'wiki_0.07_4.tsv': 1,\n",
       "         'wiki_0.09_73.tsv': 2,\n",
       "         'wiki_0.05_58.tsv': 2,\n",
       "         'wiki_0.07_19.tsv': 2,\n",
       "         'wiki_0.09_34.tsv': 2,\n",
       "         'wiki_0.09_80.tsv': 1,\n",
       "         'wiki_0.05_65.tsv': 2,\n",
       "         'wiki_0.09_1.tsv': 2,\n",
       "         'wiki_0.09_45.tsv': 1,\n",
       "         'wiki_0.09_83.tsv': 1,\n",
       "         'wiki_0.07_20.tsv': 1,\n",
       "         'wiki_0.05_4.tsv': 1,\n",
       "         'wiki_0.03_91.tsv': 1,\n",
       "         'wiki_0.07_30.tsv': 2,\n",
       "         'wiki_0.09_85.tsv': 2,\n",
       "         'wiki_0.09_24.tsv': 1,\n",
       "         'wiki_0.07_79.tsv': 1,\n",
       "         'wiki_0.03_57.tsv': 2,\n",
       "         'wiki_0.05_47.tsv': 1,\n",
       "         'wiki_0.09_5.tsv': 1,\n",
       "         'wiki_0.07_23.tsv': 2,\n",
       "         'wiki_0.07_47.tsv': 2,\n",
       "         'wiki_0.09_14.tsv': 2,\n",
       "         'wiki_0.09_6.tsv': 1,\n",
       "         'wiki_0.07_15.tsv': 1,\n",
       "         'wiki_0.07_0.tsv': 1,\n",
       "         'wiki_0.07_28.tsv': 1,\n",
       "         'wiki_0.09_11.tsv': 2,\n",
       "         'wiki_0.05_15.tsv': 1,\n",
       "         'wiki_0.07_21.tsv': 1,\n",
       "         'wiki_0.09_4.tsv': 1,\n",
       "         'wiki_0.09_63.tsv': 2,\n",
       "         'wiki_0.07_42.tsv': 2,\n",
       "         'wiki_0.07_38.tsv': 1,\n",
       "         'wiki_0.09_50.tsv': 1,\n",
       "         'wiki_0.07_29.tsv': 1,\n",
       "         'wiki_0.07_13.tsv': 1,\n",
       "         'wiki_0.05_10.tsv': 1,\n",
       "         'wiki_0.03_20.tsv': 1,\n",
       "         'wiki_0.07_66.tsv': 2,\n",
       "         'wiki_0.03_76.tsv': 2,\n",
       "         'wiki_0.09_58.tsv': 2,\n",
       "         'wiki_0.07_3.tsv': 1,\n",
       "         'wiki_0.09_20.tsv': 1,\n",
       "         'wiki_0.09_19.tsv': 1,\n",
       "         'wiki_0.05_98.tsv': 2,\n",
       "         'wiki_0.09_16.tsv': 1,\n",
       "         'wiki_0.09_32.tsv': 1,\n",
       "         'wiki_0.09_2.tsv': 1,\n",
       "         'wiki_0.07_85.tsv': 2,\n",
       "         'wiki_0.05_57.tsv': 2,\n",
       "         'wiki_0.05_77.tsv': 2,\n",
       "         'wiki_0.05_35.tsv': 2,\n",
       "         'wiki_0.03_85.tsv': 2,\n",
       "         'wiki_0.09_27.tsv': 1,\n",
       "         'wiki_0.09_46.tsv': 2,\n",
       "         'wiki_0.09_48.tsv': 2,\n",
       "         'wiki_0.01_82.tsv': 2,\n",
       "         'wiki_0.09_9.tsv': 1,\n",
       "         'wiki_0.07_54.tsv': 2,\n",
       "         'wiki_0.01_31.tsv': 1,\n",
       "         'wiki_0.01_11.tsv': 2,\n",
       "         'wiki_0.09_47.tsv': 2,\n",
       "         'wiki_0.07_14.tsv': 1,\n",
       "         'wiki_0.09_13.tsv': 2,\n",
       "         'wiki_0.05_61.tsv': 2,\n",
       "         'wiki_0.07_26.tsv': 1,\n",
       "         'wiki_0.07_17.tsv': 1,\n",
       "         'wiki_0.01_77.tsv': 1,\n",
       "         'wiki_0.07_92.tsv': 2,\n",
       "         'wiki_0.09_30.tsv': 1,\n",
       "         'wiki_0.01_56.tsv': 1,\n",
       "         'wiki_0.09_26.tsv': 2,\n",
       "         'wiki_0.09_54.tsv': 2,\n",
       "         'wiki_0.09_25.tsv': 1,\n",
       "         'wiki_0.07_84.tsv': 2,\n",
       "         'wiki_0.07_93.tsv': 2,\n",
       "         'wiki_0.09_59.tsv': 1,\n",
       "         'wiki_0.01_90.tsv': 2,\n",
       "         'wiki_0.03_70.tsv': 1,\n",
       "         'wiki_0.07_48.tsv': 2,\n",
       "         'wiki_0.07_22.tsv': 2,\n",
       "         'wiki_0.01_30.tsv': 1,\n",
       "         'wiki_0.09_15.tsv': 1,\n",
       "         'wiki_0.07_24.tsv': 1,\n",
       "         'wiki_0.07_49.tsv': 2,\n",
       "         'wiki_0.07_36.tsv': 1,\n",
       "         'wiki_0.01_13.tsv': 1,\n",
       "         'wiki_0.07_43.tsv': 2,\n",
       "         'wiki_0.07_7.tsv': 1,\n",
       "         'wiki_0.07_5.tsv': 1,\n",
       "         'wiki_0.09_78.tsv': 2,\n",
       "         'wiki_0.01_19.tsv': 2,\n",
       "         'wiki_0.07_40.tsv': 2,\n",
       "         'wiki_0.05_0.tsv': 1,\n",
       "         'wiki_0.09_66.tsv': 2,\n",
       "         'wiki_0.09_53.tsv': 2,\n",
       "         'wiki_0.09_40.tsv': 2,\n",
       "         'wiki_0.09_76.tsv': 2,\n",
       "         'wiki_0.09_71.tsv': 1,\n",
       "         'wiki_0.03_48.tsv': 1,\n",
       "         'wiki_0.01_52.tsv': 1,\n",
       "         'wiki_0.03_56.tsv': 2,\n",
       "         'wiki_0.03_89.tsv': 1,\n",
       "         'wiki_0.09_17.tsv': 1,\n",
       "         'wiki_0.09_57.tsv': 2,\n",
       "         'wiki_0.03_88.tsv': 2,\n",
       "         'wiki_0.09_29.tsv': 2,\n",
       "         'wiki_0.01_6.tsv': 1,\n",
       "         'wiki_0.03_80.tsv': 1,\n",
       "         'wiki_0.05_72.tsv': 2,\n",
       "         'wiki_0.09_23.tsv': 1,\n",
       "         'wiki_0.03_79.tsv': 2,\n",
       "         'wiki_0.09_0.tsv': 1,\n",
       "         'wiki_0.09_60.tsv': 2,\n",
       "         'wiki_0.01_9.tsv': 1,\n",
       "         'wiki_0.09_7.tsv': 1,\n",
       "         'wiki_0.05_11.tsv': 1,\n",
       "         'wiki_0.09_38.tsv': 2,\n",
       "         'wiki_0.09_61.tsv': 2,\n",
       "         'wiki_0.09_28.tsv': 1,\n",
       "         'wiki_0.03_9.tsv': 1,\n",
       "         'wiki_0.09_86.tsv': 2,\n",
       "         'wiki_0.03_62.tsv': 2,\n",
       "         'wiki_0.09_43.tsv': 2,\n",
       "         'wiki_0.09_3.tsv': 1,\n",
       "         'wiki_0.03_1.tsv': 1,\n",
       "         'wiki_0.09_33.tsv': 2,\n",
       "         'wiki_0.05_31.tsv': 1,\n",
       "         'wiki_0.01_29.tsv': 1,\n",
       "         'wiki_0.09_8.tsv': 1,\n",
       "         'wiki_0.09_72.tsv': 2,\n",
       "         'wiki_0.09_82.tsv': 2,\n",
       "         'wiki_0.09_42.tsv': 1,\n",
       "         'wiki_0.01_18.tsv': 1,\n",
       "         'wiki_0.09_18.tsv': 2,\n",
       "         'wiki_0.03_60.tsv': 1,\n",
       "         'wiki_0.01_15.tsv': 1,\n",
       "         'wiki_0.03_92.tsv': 1,\n",
       "         'wiki_0.01_95.tsv': 1,\n",
       "         'wiki_0.01_70.tsv': 1,\n",
       "         'wiki_0.01_87.tsv': 1,\n",
       "         'wiki_0.01_81.tsv': 1,\n",
       "         'wiki_0.05_79.tsv': 1,\n",
       "         'wiki_0.03_94.tsv': 1,\n",
       "         'wiki_0.01_61.tsv': 1,\n",
       "         'wiki_0.01_99.tsv': 1,\n",
       "         'wiki_0.03_73.tsv': 1,\n",
       "         'wiki_0.05_45.tsv': 1,\n",
       "         'wiki_0.05_50.tsv': 1,\n",
       "         'wiki_0.03_39.tsv': 1,\n",
       "         'wiki_0.03_67.tsv': 1,\n",
       "         'wiki_0.01_98.tsv': 1,\n",
       "         'wiki_0.01_85.tsv': 1,\n",
       "         'wiki_0.01_75.tsv': 1,\n",
       "         'wiki_0.01_65.tsv': 1,\n",
       "         'wiki_0.03_87.tsv': 1,\n",
       "         'wiki_0.05_94.tsv': 1,\n",
       "         'wiki_0.03_75.tsv': 1,\n",
       "         'wiki_0.01_55.tsv': 1,\n",
       "         'wiki_0.01_58.tsv': 1,\n",
       "         'wiki_0.05_92.tsv': 1,\n",
       "         'wiki_0.03_33.tsv': 1,\n",
       "         'wiki_0.03_99.tsv': 1,\n",
       "         'wiki_0.03_86.tsv': 1,\n",
       "         'wiki_0.05_90.tsv': 1,\n",
       "         'wiki_0.03_55.tsv': 1,\n",
       "         'wiki_0.03_93.tsv': 1,\n",
       "         'wiki_0.01_80.tsv': 1,\n",
       "         'wiki_0.01_76.tsv': 1,\n",
       "         'wiki_0.03_95.tsv': 1,\n",
       "         'wiki_0.01_47.tsv': 1,\n",
       "         'wiki_0.01_97.tsv': 1,\n",
       "         'wiki_0.01_71.tsv': 1,\n",
       "         'wiki_0.01_68.tsv': 1,\n",
       "         'wiki_0.03_31.tsv': 1,\n",
       "         'wiki_0.01_96.tsv': 1,\n",
       "         'wiki_0.01_63.tsv': 1,\n",
       "         'wiki_0.05_99.tsv': 1,\n",
       "         'wiki_0.05_84.tsv': 1,\n",
       "         'wiki_0.05_88.tsv': 1,\n",
       "         'wiki_0.07_86.tsv': 1,\n",
       "         'wiki_0.07_91.tsv': 1,\n",
       "         'wiki_0.05_85.tsv': 1,\n",
       "         'wiki_0.07_65.tsv': 1,\n",
       "         'wiki_0.03_97.tsv': 1,\n",
       "         'wiki_0.05_97.tsv': 1,\n",
       "         'wiki_0.05_44.tsv': 1,\n",
       "         'wiki_0.05_63.tsv': 1,\n",
       "         'wiki_0.05_60.tsv': 1,\n",
       "         'wiki_0.05_81.tsv': 1,\n",
       "         'wiki_0.03_63.tsv': 1,\n",
       "         'wiki_0.05_87.tsv': 1,\n",
       "         'wiki_0.05_95.tsv': 1,\n",
       "         'wiki_0.03_74.tsv': 1,\n",
       "         'wiki_0.07_96.tsv': 1,\n",
       "         'wiki_0.05_96.tsv': 1,\n",
       "         'wiki_0.07_44.tsv': 1,\n",
       "         'wiki_0.01_64.tsv': 1,\n",
       "         'wiki_0.03_51.tsv': 1,\n",
       "         'wiki_0.07_71.tsv': 1,\n",
       "         'wiki_0.03_71.tsv': 1,\n",
       "         'wiki_0.07_95.tsv': 1,\n",
       "         'wiki_0.07_78.tsv': 1,\n",
       "         'wiki_0.05_74.tsv': 1,\n",
       "         'wiki_0.05_67.tsv': 1,\n",
       "         'wiki_0.03_38.tsv': 1,\n",
       "         'wiki_0.01_89.tsv': 1,\n",
       "         'wiki_0.05_75.tsv': 1,\n",
       "         'wiki_0.07_88.tsv': 1,\n",
       "         'wiki_0.07_68.tsv': 1,\n",
       "         'wiki_0.09_89.tsv': 1,\n",
       "         'wiki_0.09_44.tsv': 1,\n",
       "         'wiki_0.07_98.tsv': 1,\n",
       "         'wiki_0.09_81.tsv': 1,\n",
       "         'wiki_0.07_90.tsv': 1,\n",
       "         'wiki_0.09_35.tsv': 1,\n",
       "         'wiki_0.07_57.tsv': 1,\n",
       "         'wiki_0.09_92.tsv': 1,\n",
       "         'wiki_0.07_56.tsv': 1,\n",
       "         'wiki_0.07_97.tsv': 1,\n",
       "         'wiki_0.05_89.tsv': 1,\n",
       "         'wiki_0.07_60.tsv': 1,\n",
       "         'wiki_0.09_94.tsv': 1,\n",
       "         'wiki_0.05_71.tsv': 1,\n",
       "         'wiki_0.05_91.tsv': 1,\n",
       "         'wiki_0.07_51.tsv': 1,\n",
       "         'wiki_0.07_72.tsv': 1,\n",
       "         'wiki_0.09_91.tsv': 1,\n",
       "         'wiki_0.09_62.tsv': 1,\n",
       "         'wiki_0.07_39.tsv': 1,\n",
       "         'wiki_0.03_36.tsv': 1,\n",
       "         'wiki_0.09_65.tsv': 1,\n",
       "         'wiki_0.09_75.tsv': 1,\n",
       "         'wiki_0.07_99.tsv': 1,\n",
       "         'wiki_0.09_77.tsv': 1,\n",
       "         'wiki_0.07_69.tsv': 1,\n",
       "         'wiki_0.07_73.tsv': 1,\n",
       "         'wiki_0.07_89.tsv': 1,\n",
       "         'wiki_0.07_63.tsv': 1,\n",
       "         'wiki_0.09_22.tsv': 1,\n",
       "         'wiki_0.09_64.tsv': 1,\n",
       "         'wiki_0.07_50.tsv': 1,\n",
       "         'wiki_0.01_69.tsv': 1,\n",
       "         'wiki_0.05_19.tsv': 1,\n",
       "         'wiki_0.09_31.tsv': 1,\n",
       "         'wiki_0.09_98.tsv': 1,\n",
       "         'wiki_0.09_87.tsv': 1,\n",
       "         'wiki_0.09_79.tsv': 1,\n",
       "         'wiki_0.09_99.tsv': 1,\n",
       "         'wiki_0.09_49.tsv': 1,\n",
       "         'wiki_0.07_58.tsv': 1,\n",
       "         'wiki_0.01_88.tsv': 1,\n",
       "         'wiki_0.07_70.tsv': 1,\n",
       "         'wiki_0.09_69.tsv': 1,\n",
       "         'wiki_0.01_92.tsv': 1,\n",
       "         'wiki_0.09_10.tsv': 1,\n",
       "         'wiki_0.09_52.tsv': 1,\n",
       "         'wiki_0.09_56.tsv': 1,\n",
       "         'wiki_0.07_67.tsv': 1,\n",
       "         'wiki_0.05_76.tsv': 1,\n",
       "         'wiki_0.09_51.tsv': 1,\n",
       "         'wiki_0.07_94.tsv': 1,\n",
       "         'wiki_0.01_12.tsv': 1,\n",
       "         'wiki_0.07_74.tsv': 1,\n",
       "         'wiki_0.01_32.tsv': 1,\n",
       "         'wiki_0.01_48.tsv': 1,\n",
       "         'wiki_0.07_46.tsv': 1,\n",
       "         'wiki_0.03_98.tsv': 1,\n",
       "         'wiki_0.09_90.tsv': 1,\n",
       "         'wiki_0.03_50.tsv': 1,\n",
       "         'wiki_0.01_73.tsv': 1,\n",
       "         'wiki_0.09_12.tsv': 1,\n",
       "         'wiki_0.01_74.tsv': 1,\n",
       "         'wiki_0.09_55.tsv': 1,\n",
       "         'wiki_0.09_84.tsv': 1,\n",
       "         'wiki_0.09_88.tsv': 1,\n",
       "         'wiki_0.01_91.tsv': 1,\n",
       "         'wiki_0.09_96.tsv': 1,\n",
       "         'wiki_0.09_39.tsv': 1,\n",
       "         'wiki_0.09_68.tsv': 1,\n",
       "         'wiki_0.01_66.tsv': 1,\n",
       "         'wiki_0.03_72.tsv': 1,\n",
       "         'wiki_0.01_72.tsv': 1,\n",
       "         'wiki_0.01_83.tsv': 1,\n",
       "         'wiki_0.03_30.tsv': 1})"
      ]
     },
     "execution_count": 30,
     "metadata": {},
     "output_type": "execute_result"
    }
   ],
   "source": [
    "Counter(distance_df.fname_1.unique().tolist() + distance_df.fname_2.unique().tolist())"
   ]
  },
  {
   "cell_type": "code",
   "execution_count": null,
   "metadata": {},
   "outputs": [],
   "source": []
  }
 ],
 "metadata": {
  "kernelspec": {
   "display_name": "Python 3.7.4 64-bit ('base': conda)",
   "language": "python",
   "name": "python37464bitbaseconda7c8882740aa04fc49e07a2cd18a445a6"
  },
  "language_info": {
   "codemirror_mode": {
    "name": "ipython",
    "version": 3
   },
   "file_extension": ".py",
   "mimetype": "text/x-python",
   "name": "python",
   "nbconvert_exporter": "python",
   "pygments_lexer": "ipython3",
   "version": "3.7.4"
  },
  "metadata": {
   "interpreter": {
    "hash": "ba954e04f94d5e4970321c570fb05eff7c202d9f1ab5b8ba406812668fc94516"
   }
  }
 },
 "nbformat": 4,
 "nbformat_minor": 4
}
